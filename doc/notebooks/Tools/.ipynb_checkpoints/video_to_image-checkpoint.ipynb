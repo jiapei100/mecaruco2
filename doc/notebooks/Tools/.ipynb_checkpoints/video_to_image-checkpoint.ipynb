{
 "cells": [
  {
   "cell_type": "markdown",
   "metadata": {},
   "source": [
    "# Video to image"
   ]
  },
  {
   "cell_type": "code",
   "execution_count": 1,
   "metadata": {
    "collapsed": true
   },
   "outputs": [],
   "source": [
    "import numpy as np\n",
    "import cv2, PIL, os\n",
    "from cv2 import aruco\n",
    "from mpl_toolkits.mplot3d import Axes3D\n",
    "import matplotlib.pyplot as plt\n",
    "import matplotlib as mpl\n",
    "import pandas as pd\n",
    "%matplotlib nbagg\n"
   ]
  },
  {
   "cell_type": "code",
   "execution_count": 6,
   "metadata": {
    "collapsed": true
   },
   "outputs": [],
   "source": [
    "workdir = \"../Aruco/data/calib_tel_ludo/\"\n",
    "name = \"VID_20180406_085421.mp4\"\n",
    "rootname = name.split(\".\")[0]\n",
    "cap = cv2.VideoCapture(workdir + name)\n",
    "counter = 0\n",
    "each = 5\n",
    "length = int(cap.get(cv2.CAP_PROP_FRAME_COUNT))\n",
    "for i in range(length):\n",
    "    ret, frame = cap.read()\n",
    "    if i % each == 0: cv2.imwrite(workdir + rootname + \"_{0}\".format(i) + \".png\", frame)\n",
    "    \n",
    "cap.release()"
   ]
  },
  {
   "cell_type": "code",
   "execution_count": 7,
   "metadata": {},
   "outputs": [
    {
     "data": {
      "text/plain": [
       "['VID_20180406_085421_210.png',\n",
       " 'VID_20180406_085421_230.png',\n",
       " 'VID_20180406_085421_150.png',\n",
       " 'VID_20180406_085421_160.png',\n",
       " 'VID_20180406_085421_65.png',\n",
       " 'VID_20180406_085421_135.png',\n",
       " 'VID_20180406_085421_0.png',\n",
       " 'VID_20180406_085421_255.png',\n",
       " 'VID_20180406_085421_280.png',\n",
       " 'VID_20180406_085421_85.png',\n",
       " 'VID_20180406_085421_165.png',\n",
       " 'VID_20180406_085421_260.png',\n",
       " 'VID_20180406_085421_100.png',\n",
       " 'VID_20180406_085421_245.png',\n",
       " 'VID_20180406_085421_155.png',\n",
       " 'VID_20180406_085421_185.png',\n",
       " 'VID_20180406_085421_250.png',\n",
       " 'VID_20180406_085421_215.png',\n",
       " 'VID_20180406_085421_5.png',\n",
       " 'VID_20180406_085421_15.png',\n",
       " 'VID_20180406_085421_145.png',\n",
       " 'VID_20180406_085421_70.png',\n",
       " 'VID_20180406_085421_270.png',\n",
       " 'VID_20180406_085421_60.png',\n",
       " 'VID_20180406_085421_235.png',\n",
       " 'VID_20180406_085421_290.png',\n",
       " 'VID_20180406_085421_120.png',\n",
       " 'VID_20180406_085421_95.png',\n",
       " 'VID_20180406_085421_170.png',\n",
       " 'VID_20180406_085421_195.png',\n",
       " 'VID_20180406_085421_50.png',\n",
       " 'VID_20180406_085421_225.png',\n",
       " 'VID_20180406_085421.mp4',\n",
       " 'VID_20180406_085421_190.png',\n",
       " 'VID_20180406_085421_275.png',\n",
       " 'VID_20180406_085421_295.png',\n",
       " 'VID_20180406_085421_30.png',\n",
       " 'VID_20180406_085421_75.png',\n",
       " 'VID_20180406_085421_175.png',\n",
       " 'VID_20180406_085421_200.png',\n",
       " 'VID_20180406_085421_140.png',\n",
       " 'VID_20180406_085421_115.png',\n",
       " 'VID_20180406_085421_10.png',\n",
       " 'VID_20180406_085421_80.png',\n",
       " 'VID_20180406_085421_25.png',\n",
       " 'VID_20180406_085421_130.png',\n",
       " 'VID_20180406_085421_110.png',\n",
       " 'VID_20180406_085421_105.png',\n",
       " 'VID_20180406_085421_40.png',\n",
       " 'VID_20180406_085421_205.png',\n",
       " 'VID_20180406_085421_125.png',\n",
       " 'VID_20180406_085421_35.png',\n",
       " 'VID_20180406_085421_90.png',\n",
       " 'VID_20180406_085421_265.png',\n",
       " 'VID_20180406_085421_240.png',\n",
       " 'VID_20180406_085421_300.png',\n",
       " 'VID_20180406_085421_285.png',\n",
       " 'VID_20180406_085421_55.png',\n",
       " 'VID_20180406_085421_220.png',\n",
       " 'VID_20180406_085421_180.png',\n",
       " 'VID_20180406_085421_45.png',\n",
       " 'VID_20180406_085421_20.png']"
      ]
     },
     "execution_count": 7,
     "metadata": {},
     "output_type": "execute_result"
    }
   ],
   "source": [
    "os.listdir(\"../Aruco/data/calib_tel_ludo/\")"
   ]
  },
  {
   "cell_type": "code",
   "execution_count": 4,
   "metadata": {},
   "outputs": [
    {
     "data": {
      "text/plain": [
       "0"
      ]
     },
     "execution_count": 4,
     "metadata": {},
     "output_type": "execute_result"
    }
   ],
   "source": [
    "int(cap.get(cv2.CAP_PROP_FRAME_COUNT))"
   ]
  },
  {
   "cell_type": "code",
   "execution_count": null,
   "metadata": {
    "collapsed": true
   },
   "outputs": [],
   "source": []
  }
 ],
 "metadata": {
  "kernelspec": {
   "display_name": "Python 3",
   "language": "python",
   "name": "python3"
  },
  "language_info": {
   "codemirror_mode": {
    "name": "ipython",
    "version": 3
   },
   "file_extension": ".py",
   "mimetype": "text/x-python",
   "name": "python",
   "nbconvert_exporter": "python",
   "pygments_lexer": "ipython3",
   "version": "3.6.1"
  }
 },
 "nbformat": 4,
 "nbformat_minor": 2
}
