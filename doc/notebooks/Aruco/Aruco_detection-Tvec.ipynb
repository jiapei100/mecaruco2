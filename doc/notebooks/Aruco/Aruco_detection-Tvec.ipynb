{
 "cells": [
  {
   "cell_type": "code",
   "execution_count": 3,
   "metadata": {
    "collapsed": true
   },
   "outputs": [],
   "source": [
    "import numpy as np\n",
    "import cv2\n",
    "import cv2.aruco as aruco\n",
    "import math\n",
    "import random\n",
    "import sys\n",
    "#import time\n",
    "\n"
   ]
  },
  {
   "cell_type": "code",
   "execution_count": 4,
   "metadata": {},
   "outputs": [],
   "source": [
    "aruco_dict = aruco.Dictionary_get(aruco.DICT_6X6_250)\n",
    "#print(aruco_dict)\n",
    "# second parameter is id number\n",
    "# last parameter is total image size\n",
    "img = aruco.drawMarker(aruco_dict, 2, 700)\n",
    "cv2.imwrite(\"test_marker.jpg\", img)\n",
    " \n",
    "#cv2.imshow('frame',img)\n",
    "cv2.waitKey(0)\n",
    "cv2.destroyAllWindows()\n",
    "posorigine =[]\n",
    "cap = cv2.VideoCapture(0)\n",
    "mtx=np.array([[ 736.72620104,    0.        ,  335.09873285],\n",
    "       [   0.        ,  784.55469771,  288.37183538],\n",
    "       [   0.        ,    0.        ,    1.        ]])\n",
    "\n",
    "dist=np.array([[  1.80626027e-01],\n",
    "       [ -6.41707400e-01],\n",
    "       [  5.59047400e-03],\n",
    "       [  1.71301917e-03],\n",
    "       [ -2.57102334e+00],\n",
    "       [  6.96846440e-02],\n",
    "       [ -4.08903572e-01],\n",
    "       [ -2.89017255e+00],\n",
    "       [  0.00000000e+00],\n",
    "       [  0.00000000e+00],\n",
    "       [  0.00000000e+00],\n",
    "       [  0.00000000e+00],\n",
    "       [  0.00000000e+00],\n",
    "       [  0.00000000e+00]] )\n",
    "\n",
    "#cv2.namedWindow(\"truc\", cv2.WND_PROP_FULLSCREEN)\n",
    "#cv2.resizeWindow('truc', 1200,1200)\n",
    "#cv2.SetWindowProperty(\"truc\",cv2.WND_PROP_FULLSCREEN,cv2.WINDOW_FULLSCREEN)\n",
    "cv2.namedWindow(\"truc\", cv2.WND_PROP_FULLSCREEN)\n",
    "cv2.setWindowProperty(\"truc\",cv2.WND_PROP_FULLSCREEN,cv2.WINDOW_FULLSCREEN)\n",
    "\n",
    "while(True):\n",
    "    # Capture frame-by-frame\n",
    "    ret, frame = cap.read()\n",
    "    #print(frame.shape) #480x640\n",
    "    # Our operations on the frame come here\n",
    "    gray = cv2.cvtColor(frame, cv2.COLOR_BGR2GRAY)\n",
    "    aruco_dict = aruco.Dictionary_get(aruco.DICT_6X6_250)\n",
    "    parameters =  aruco.DetectorParameters_create()\n",
    "    \n",
    "    #print(parameters)\n",
    " \n",
    "    '''    detectMarkers(...)\n",
    "        detectMarkers(image, dictionary[, corners[, ids[, parameters[, rejectedI\n",
    "        mgPoints]]]]) -> corners, ids, rejectedImgPoints\n",
    "        '''\n",
    "        #lists of ids and the corners beloning to each id\n",
    "    corners, ids, rejectedImgPoints = aruco.detectMarkers(gray, aruco_dict, parameters=parameters)\n",
    "    #print(corners[0][0][0])\n",
    "    size_of_marker =  0.0202 # side lenght of the marker in meter\n",
    "    if len(corners)>0:\n",
    "        rvecs,tvecs, trash = aruco.estimatePoseSingleMarkers(corners, size_of_marker, mtx, dist)\n",
    "        length_of_axis = 0.01\n",
    "        imaxis = aruco.drawDetectedMarkers(frame, corners, ids)\n",
    "    \n",
    "        for i in range(len(tvecs)):\n",
    "            imaxis = aruco.drawAxis(imaxis, mtx, dist, rvecs[i], tvecs[i], length_of_axis)\n",
    "            \n",
    "        #It's working.\n",
    "        # qqmy problem was that the cellphone put black all around it. The alrogithm\n",
    "        # depends very much upon finding rectangular black blobs\n",
    "        \n",
    "        frame = aruco.drawDetectedMarkers(frame, corners)\n",
    "        \"\"\"for i in range(len(ids)):\n",
    "            if ids[i]== 1:\"\"\"\n",
    "        if posorigine != []:\n",
    "            for i in ids:\n",
    "                if i in trackedIds:\n",
    "                    orgcorners = posorigine[list(trackedIds).index(i)]\n",
    "                    newcorners = corners[list(ids).index(i)]\n",
    "                #ax,ay,xmarkers,by,bx,deltax,deltay = calcul(corners,i)    \n",
    "                    cv2.line(frame,(orgcorners[0][0][0],orgcorners[0][0][1]),\n",
    "                             (newcorners[0][0][0], newcorners[0][0][1]),(255,255,255),5)\n",
    "                    \n",
    "          #deltax = float(int((abs(ax-bx)*2.81/xmarkers)*100)/100)  \n",
    "                    orgcornersbis = posoriginetvecs[list(trackedIds).index(i)]\n",
    "                    newcornersbis = tvecs[list(ids).index(i)]\n",
    "                    cal = np.sqrt((newcornersbis[0][0]-orgcornersbis[0][0])**2+(newcornersbis[0][1]-orgcornersbis[0][1])**2)*1000\n",
    "                    cal = float(int(cal*100))/100\n",
    "                    \n",
    "                    \n",
    "                    cv2.putText(frame,'x'+str(i)+':'+ str(cal),(0,100+25*i),cv2.FONT_HERSHEY_SIMPLEX,1,(255,255,255),2)\n",
    "        \n",
    "        #print(rejectedImgPoints)\n",
    "        # Display the resulting frame\n",
    "        \n",
    "        cv2.imshow('truc',frame)\n",
    "        cv2.imshow('truc',imaxis)\n",
    "    else:\n",
    "        cv2.imshow('truc',frame)\n",
    "    if cv2.waitKey(1) & 0xFF == ord('a'):\n",
    "        posorigine = corners\n",
    "        posoriginetvecs = tvecs\n",
    "        trackedIds = ids\n",
    "    if cv2.waitKey(1) & 0xFF == ord('q'):\n",
    "        break\n",
    " \n",
    "# When everything done, release the capture\n",
    "cap.release()\n",
    "cv2.destroyAllWindows()"
   ]
  },
  {
   "cell_type": "code",
   "execution_count": 1,
   "metadata": {},
   "outputs": [
    {
     "ename": "NameError",
     "evalue": "name 'tvecs' is not defined",
     "output_type": "error",
     "traceback": [
      "\u001b[1;31m---------------------------------------------------------------------------\u001b[0m",
      "\u001b[1;31mNameError\u001b[0m                                 Traceback (most recent call last)",
      "\u001b[1;32m<ipython-input-1-f5df3c737808>\u001b[0m in \u001b[0;36m<module>\u001b[1;34m()\u001b[0m\n\u001b[1;32m----> 1\u001b[1;33m \u001b[0mtvecs\u001b[0m\u001b[1;33m\u001b[0m\u001b[0m\n\u001b[0m",
      "\u001b[1;31mNameError\u001b[0m: name 'tvecs' is not defined"
     ]
    }
   ],
   "source": [
    "tvecs"
   ]
  },
  {
   "cell_type": "code",
   "execution_count": 8,
   "metadata": {},
   "outputs": [],
   "source": [
    "cap.release()"
   ]
  },
  {
   "cell_type": "code",
   "execution_count": null,
   "metadata": {
    "collapsed": true
   },
   "outputs": [],
   "source": [
    "\n",
    "def calc_square(numbers):\n",
    "    for n in numbers:\n",
    "        print('square ' + str(n*n))\n",
    "\n",
    "def calc_cube(numbers):\n",
    "    for n in numbers:\n",
    "        print('cube ' + str(n*n*n))\n",
    "\n",
    "if __name__ == \"__main__\":\n",
    "    arr = [2,3,8]\n",
    "    p1 = multiprocessing.Process(target=calc_square, args=(arr,))\n",
    "    p2 = multiprocessing.Process(target=calc_cube, args=(arr,))\n",
    "\n",
    "    p1.start()\n",
    "    p2.start()\n",
    "\n",
    "    p1.join()\n",
    "    p2.join()\n",
    "    \n",
    "\n",
    "    print(calc_square(arr),\"Done!\")"
   ]
  },
  {
   "cell_type": "code",
   "execution_count": null,
   "metadata": {
    "collapsed": true
   },
   "outputs": [],
   "source": []
  },
  {
   "cell_type": "code",
   "execution_count": null,
   "metadata": {
    "collapsed": true
   },
   "outputs": [],
   "source": [
    "ids"
   ]
  },
  {
   "cell_type": "code",
   "execution_count": null,
   "metadata": {
    "collapsed": true
   },
   "outputs": [],
   "source": [
    "ids = [4,5,2]\n",
    "ids"
   ]
  },
  {
   "cell_type": "code",
   "execution_count": null,
   "metadata": {
    "collapsed": true
   },
   "outputs": [],
   "source": [
    "ids.index(5)\n"
   ]
  },
  {
   "cell_type": "code",
   "execution_count": null,
   "metadata": {
    "collapsed": true
   },
   "outputs": [],
   "source": [
    "d = dict()"
   ]
  }
 ],
 "metadata": {
  "kernelspec": {
   "display_name": "Python 3",
   "language": "python",
   "name": "python3"
  },
  "language_info": {
   "codemirror_mode": {
    "name": "ipython",
    "version": 3
   },
   "file_extension": ".py",
   "mimetype": "text/x-python",
   "name": "python",
   "nbconvert_exporter": "python",
   "pygments_lexer": "ipython3",
   "version": "3.6.3"
  }
 },
 "nbformat": 4,
 "nbformat_minor": 2
}
