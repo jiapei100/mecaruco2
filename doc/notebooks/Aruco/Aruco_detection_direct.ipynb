{
 "cells": [
  {
   "cell_type": "code",
   "execution_count": 2,
   "metadata": {},
   "outputs": [],
   "source": [
    "import numpy as np\n",
    "import matplotlib.pyplot as plt\n",
    "import cv2\n",
    "import cv2.aruco as aruco\n",
    "import time\n",
    "%matplotlib tk # inline, nbagg"
   ]
  },
  {
   "cell_type": "code",
   "execution_count": null,
   "metadata": {},
   "outputs": [],
   "source": [
    "aruco_dict = aruco.Dictionary_get(aruco.DICT_6X6_250)\n",
    "img = aruco.drawMarker(aruco_dict, 2, 700)\n",
    "cv2.imwrite(\"test_marker.jpg\", img)\n",
    " \n",
    "angle=[]\n",
    "cv2.waitKey(0)\n",
    "cv2.destroyAllWindows()\n",
    "\n",
    "cap = cv2.VideoCapture(0)\n",
    "\n",
    "size_of_marker =  0.045\n",
    "\n",
    "while(True):\n",
    "\n",
    "    ret, frame = cap.read()\n",
    "    gray = cv2.cvtColor(frame, cv2.COLOR_BGR2GRAY)\n",
    "    aruco_dict = aruco.Dictionary_get(aruco.DICT_6X6_250)\n",
    "    parameters =  aruco.DetectorParameters_create()\n",
    " \n",
    "\n",
    " \n",
    "    '''    detectMarkers(...)\n",
    "        detectMarkers(image, dictionary[, corners[, ids[, parameters[, rejectedI\n",
    "        mgPoints]]]]) -> corners, ids, rejectedImgPoints\n",
    "        '''\n",
    "    size_of_marker =  0.045\n",
    "    corners, ids, rejectedImgPoints = aruco.detectMarkers(gray, aruco_dict, parameters=parameters)\n",
    "\n",
    "    frame = aruco.drawDetectedMarkers(frame, corners)\n",
    "\n",
    "    cv2.imshow('frame',frame)\n",
    "    imsize = gray.shape\n",
    "    \n",
    "    dist = np.zeros((5,1))\n",
    "    \n",
    "    mtx = np.array([[ 2000.,    0., imsize[0]/2.],\n",
    "                    [    0., 2000., imsize[1]/2.],\n",
    "                    [    0.,    0.,           1.]])\n",
    "    \n",
    "    rvecs,tvecs, trash = aruco.estimatePoseSingleMarkers(corners, size_of_marker, mtx, dist )\n",
    "    \n",
    "    angle.append(rvecs)\n",
    "    \n",
    "    \n",
    "    if cv2.waitKey(1) & 0xFF == ord('q'):\n",
    "        break\n",
    "        \n",
    "   \n",
    "        # When everything done, release the capture\n",
    "cap.release()\n",
    "cv2.destroyAllWindows()"
   ]
  },
  {
   "cell_type": "code",
   "execution_count": null,
   "metadata": {},
   "outputs": [],
   "source": [
    "t=time.sleep\n",
    "    plt.xlabel('temps')\n",
    "    plt.ylabel('angle')\n",
    "    plt.plot(t,angle)\n",
    "    plt.show()\n"
   ]
  },
  {
   "cell_type": "code",
   "execution_count": 3,
   "metadata": {},
   "outputs": [],
   "source": [
    "plt.figure()\n",
    "plt.plot(np.random.rand(10), \"or-\")\n",
    "plt.show()"
   ]
  },
  {
   "cell_type": "code",
   "execution_count": null,
   "metadata": {
    "collapsed": true
   },
   "outputs": [],
   "source": []
  }
 ],
 "metadata": {
  "kernelspec": {
   "display_name": "Python 3",
   "language": "python",
   "name": "python3"
  },
  "language_info": {
   "codemirror_mode": {
    "name": "ipython",
    "version": 3
   },
   "file_extension": ".py",
   "mimetype": "text/x-python",
   "name": "python",
   "nbconvert_exporter": "python",
   "pygments_lexer": "ipython3",
   "version": "3.6.3"
  }
 },
 "nbformat": 4,
 "nbformat_minor": 2
}
