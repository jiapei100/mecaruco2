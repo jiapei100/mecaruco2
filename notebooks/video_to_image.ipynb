{
 "cells": [
  {
   "cell_type": "markdown",
   "metadata": {},
   "source": [
    "# Video to image"
   ]
  },
  {
   "cell_type": "code",
   "execution_count": 1,
   "metadata": {
    "collapsed": true
   },
   "outputs": [],
   "source": [
    "import numpy as np\n",
    "import cv2, PIL, os\n",
    "from cv2 import aruco\n",
    "from mpl_toolkits.mplot3d import Axes3D\n",
    "import matplotlib.pyplot as plt\n",
    "import matplotlib as mpl\n",
    "import pandas as pd\n",
    "%matplotlib nbagg\n"
   ]
  },
  {
   "cell_type": "code",
   "execution_count": 2,
   "metadata": {
    "collapsed": true
   },
   "outputs": [],
   "source": [
    "workdir = \"./data/\"\n",
    "name = \"VID_20180314_141424.mp4\"\n",
    "rootname = name.split(\".\")[0]\n",
    "cap = cv2.VideoCapture(workdir + name)\n",
    "counter = 0\n",
    "each = 5\n",
    "length = int(cap.get(cv2.CAP_PROP_FRAME_COUNT))\n",
    "for i in range(length):\n",
    "    ret, frame = cap.read()\n",
    "    if i % each == 0: cv2.imwrite(workdir + rootname + \"_{0}\".format(i) + \".png\", frame)\n",
    "    \n",
    "cap.release()"
   ]
  },
  {
   "cell_type": "code",
   "execution_count": 3,
   "metadata": {},
   "outputs": [
    {
     "data": {
      "text/plain": [
       "['IMG_20180307_091159.jpg',\n",
       " 'VID_20180314_141424_290.png',\n",
       " 'VID_20180314_141424_335.png',\n",
       " 'VID_20180314_141424_175.png',\n",
       " 'VID_20180314_141424_260.png',\n",
       " 'VID_20180314_141424_370.png',\n",
       " 'VID_20180314_141424_30.png',\n",
       " 'VID_20180314_141424_5.png',\n",
       " 'markers.pdf',\n",
       " 'VID_20180314_141424_320.png',\n",
       " 'VID_20180314_141424_150.png',\n",
       " 'VID_20180314_141424_265.png',\n",
       " 'VID_20180314_141424_210.png',\n",
       " 'VID_20180314_141424_85.png',\n",
       " 'VID_20180314_141424_250.png',\n",
       " 'VID_20180314_141424_165.png',\n",
       " 'VID_20180314_141424_255.png',\n",
       " 'VID_20180314_141424_55.png',\n",
       " 'VID_20180314_141424_195.png',\n",
       " 'VID_20180314_141424_200.png',\n",
       " 'VID_20180314_141424_60.png',\n",
       " 'IMG_20180307_091235.jpg',\n",
       " 'VID_20180314_141424_80.png',\n",
       " 'VID_20180314_141424_215.png',\n",
       " 'VID_20180314_141424_205.png',\n",
       " 'VID_20180314_141424_305.png',\n",
       " 'VID_20180314_141424_70.png',\n",
       " 'VID_20180314_141424_315.png',\n",
       " 'VID_20180314_141424_65.png',\n",
       " 'VID_20180314_141424_380.png',\n",
       " 'VID_20180314_141424_15.png',\n",
       " 'IMG_20180307_091210.jpg',\n",
       " 'VID_20180314_141424_45.png',\n",
       " 'VID_20180314_141424_240.png',\n",
       " 'VID_20180314_141424_35.png',\n",
       " 'VID_20180314_141424_330.png',\n",
       " 'IMG_20180307_091226.jpg',\n",
       " 'VID_20180314_141424_180.png',\n",
       " 'VID_20180314_141424_130.png',\n",
       " 'IMG_20180307_091203.jpg',\n",
       " 'VID_20180314_141424_390.png',\n",
       " 'VID_20180314_141424_120.png',\n",
       " 'VID_20180314_141424_400.png',\n",
       " 'VID_20180314_141424_155.png',\n",
       " 'VID_20180314_141424_220.png',\n",
       " 'VID_20180314_141424_360.png',\n",
       " 'chessboard.pdf',\n",
       " 'VID_20180314_141424_300.png',\n",
       " 'VID_20180314_141424_235.png',\n",
       " 'VID_20180314_141424_365.png',\n",
       " 'VID_20180314_141424_345.png',\n",
       " 'VID_20180314_141424_340.png',\n",
       " 'VID_20180314_141424_355.png',\n",
       " 'VID_20180314_141424_20.png',\n",
       " 'IMG_20180307_091217.jpg',\n",
       " 'VID_20180314_141424_115.png',\n",
       " 'VID_20180314_141424_185.png',\n",
       " 'VID_20180314_141424_245.png',\n",
       " 'VID_20180314_141424_105.png',\n",
       " 'VID_20180314_141424_310.png',\n",
       " 'IMG_20180307_091220.jpg',\n",
       " 'VID_20180314_141424.mp4',\n",
       " 'VID_20180314_141424_10.png',\n",
       " 'VID_20180314_141424_25.png',\n",
       " 'VID_20180314_141424_140.png',\n",
       " 'VID_20180314_141424_40.png',\n",
       " 'VID_20180314_141424_270.png',\n",
       " 'VID_20180314_141424_100.png',\n",
       " 'VID_20180314_141424_110.png',\n",
       " 'VID_20180314_141424_295.png',\n",
       " 'VID_20180314_141424_375.png',\n",
       " 'IMG_20180307_091229.jpg',\n",
       " 'VID_20180314_141424_160.png',\n",
       " 'VID_20180314_141424_405.png',\n",
       " 'VID_20180314_141424_135.png',\n",
       " 'VID_20180314_141424_395.png',\n",
       " 'VID_20180314_141424_50.png',\n",
       " 'VID_20180314_141424_125.png',\n",
       " 'VID_20180314_141424_275.png',\n",
       " 'VID_20180314_141424_0.png',\n",
       " 'VID_20180314_141424_285.png',\n",
       " 'VID_20180314_141424_280.png',\n",
       " 'VID_20180314_141424_95.png',\n",
       " 'VID_20180314_141424_75.png',\n",
       " 'VID_20180314_141424_90.png',\n",
       " 'IMG_20180307_091213.jpg',\n",
       " 'VID_20180314_141424_145.png',\n",
       " 'VID_20180314_141424_350.png',\n",
       " 'VID_20180314_141424_190.png',\n",
       " 'VID_20180314_141424_230.png',\n",
       " 'VID_20180314_141424_225.png',\n",
       " 'VID_20180314_141424_385.png',\n",
       " 'VID_20180314_141424_170.png',\n",
       " 'VID_20180314_141424_325.png']"
      ]
     },
     "execution_count": 3,
     "metadata": {},
     "output_type": "execute_result"
    }
   ],
   "source": [
    "os.listdir(\"data/\")"
   ]
  },
  {
   "cell_type": "code",
   "execution_count": 26,
   "metadata": {},
   "outputs": [
    {
     "data": {
      "text/plain": [
       "408"
      ]
     },
     "execution_count": 26,
     "metadata": {},
     "output_type": "execute_result"
    }
   ],
   "source": [
    "int(cap.get(cv2.CAP_PROP_FRAME_COUNT))"
   ]
  },
  {
   "cell_type": "code",
   "execution_count": null,
   "metadata": {
    "collapsed": true
   },
   "outputs": [],
   "source": []
  }
 ],
 "metadata": {
  "kernelspec": {
   "display_name": "Python 3",
   "language": "python",
   "name": "python3"
  },
  "language_info": {
   "codemirror_mode": {
    "name": "ipython",
    "version": 3
   },
   "file_extension": ".py",
   "mimetype": "text/x-python",
   "name": "python",
   "nbconvert_exporter": "python",
   "pygments_lexer": "ipython3",
   "version": "3.6.1"
  }
 },
 "nbformat": 4,
 "nbformat_minor": 2
}
